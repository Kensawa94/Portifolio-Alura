{
 "cells": [
  {
   "cell_type": "code",
   "execution_count": 40,
   "metadata": {},
   "outputs": [],
   "source": [
    "from bs4 import BeautifulSoup\n",
    "import pandas as pd\n",
    "import numpy as np\n",
    "import os\n",
    "from pathlib import Path\n",
    "import os\n",
    "import glob\n",
    "from os import listdir\n",
    "\n",
    "\n",
    "\n",
    "import pyautogui\n",
    "import pyperclip \n",
    "from selenium import webdriver\n",
    "from selenium.webdriver.common.keys import Keys\n",
    "from selenium.webdriver.support.ui import Select\n",
    "from selenium.webdriver.support.ui import WebDriverWait\n",
    "from selenium.webdriver.support import expected_conditions as EC\n",
    "from selenium.webdriver.common.by import By"
   ]
  },
  {
   "cell_type": "code",
   "execution_count": 41,
   "metadata": {},
   "outputs": [],
   "source": [
    "driver = webdriver.Chrome()"
   ]
  },
  {
   "cell_type": "code",
   "execution_count": 42,
   "metadata": {},
   "outputs": [],
   "source": [
    "driver.get('http://tabnet.datasus.gov.br/cgi/tabcgi.exe?sih/cnv/nrsp.def')"
   ]
  },
  {
   "cell_type": "code",
   "execution_count": 52,
   "metadata": {},
   "outputs": [],
   "source": [
    "def get_drop_ID(ident):\n",
    "    dropdown = driver.find_element_by_id(ident)\n",
    "\n",
    "    selector = Select(dropdown)\n",
    "\n",
    "    # Waiting for the values to load\n",
    "    element = WebDriverWait(driver, \n",
    "    10).until(EC.element_to_be_selected(selector.options[0]))\n",
    "    array = []\n",
    "    options = selector.options\n",
    "    for index in range(1, len(options)-1):\n",
    "        a = options[index].text\n",
    "        a = a.strip()\n",
    "        a = a.replace(\" \", \"_\")\n",
    "        array += [a]\n",
    "        print(a)\n",
    "    array = np.array(array)\n",
    "    return (array)"
   ]
  },
  {
   "cell_type": "code",
   "execution_count": 53,
   "metadata": {},
   "outputs": [
    {
     "name": "stdout",
     "output_type": "stream",
     "text": [
      "Região_de_Saúde_(CIR)\n",
      "Região_de_Saúde/Município\n",
      "Macrorregião_de_Saúde\n",
      "Macrorreg_de_Saúde/Município\n",
      "Divisão_administ_estadual\n",
      "Divisão_admin_estadual/Municíp\n",
      "Microrregião_IBGE\n",
      "Microrregião_IBGE/Município\n",
      "Região_Metropolitana_-_RIDE\n",
      "Ano/mês_processamento\n",
      "Ano_processamento\n",
      "Ano/mês_atendimento\n",
      "Ano_atendimento\n",
      "Estabelecimento\n",
      "Caráter_atendimento\n",
      "Regime\n",
      "Capítulo_CID-10\n",
      "Lista_Morb__CID-10\n",
      "Faixa_Etária_1\n",
      "Faixa_Etária_2\n",
      "Sexo\n"
     ]
    }
   ],
   "source": [
    "L = get_drop_ID('L')"
   ]
  },
  {
   "cell_type": "code",
   "execution_count": null,
   "metadata": {},
   "outputs": [],
   "source": [
    "driver.find_element_by_xpath('//*[@id=\"L\"]/option[2]').click()"
   ]
  },
  {
   "cell_type": "code",
   "execution_count": 54,
   "metadata": {},
   "outputs": [
    {
     "data": {
      "text/plain": [
       "array(['Região_de_Saúde_(CIR)', 'Região_de_Saúde/Município',\n",
       "       'Macrorregião_de_Saúde', 'Macrorreg_de_Saúde/Município',\n",
       "       'Divisão_administ_estadual', 'Divisão_admin_estadual/Municíp',\n",
       "       'Microrregião_IBGE', 'Microrregião_IBGE/Município',\n",
       "       'Região_Metropolitana_-_RIDE', 'Ano/mês_processamento',\n",
       "       'Ano_processamento', 'Ano/mês_atendimento', 'Ano_atendimento',\n",
       "       'Estabelecimento', 'Caráter_atendimento', 'Regime',\n",
       "       'Capítulo_CID-10', 'Lista_Morb__CID-10', 'Faixa_Etária_1',\n",
       "       'Faixa_Etária_2', 'Sexo'], dtype='<U30')"
      ]
     },
     "execution_count": 54,
     "metadata": {},
     "output_type": "execute_result"
    }
   ],
   "source": [
    "L"
   ]
  },
  {
   "cell_type": "code",
   "execution_count": 63,
   "metadata": {
    "scrolled": true
   },
   "outputs": [],
   "source": []
  },
  {
   "cell_type": "code",
   "execution_count": 58,
   "metadata": {},
   "outputs": [],
   "source": [
    "a = np.where(L == 'Região_de_Saúde_(CIR)')\n",
    "\n",
    "teste =  f'//*[@id=\"L\"]/option[{a}]'"
   ]
  },
  {
   "cell_type": "code",
   "execution_count": 59,
   "metadata": {},
   "outputs": [
    {
     "name": "stdout",
     "output_type": "stream",
     "text": [
      "//*[@id=\"L\"]/option[(array([0], dtype=int64),)]\n"
     ]
    }
   ],
   "source": [
    "print(teste)"
   ]
  },
  {
   "cell_type": "code",
   "execution_count": null,
   "metadata": {},
   "outputs": [],
   "source": [
    "print(get_drop_ID('C'))"
   ]
  },
  {
   "cell_type": "code",
   "execution_count": null,
   "metadata": {},
   "outputs": [],
   "source": [
    "print(get_drop_ID('I'))"
   ]
  },
  {
   "cell_type": "code",
   "execution_count": null,
   "metadata": {},
   "outputs": [],
   "source": [
    "//*[@id=\"C\"]/option[7]"
   ]
  },
  {
   "cell_type": "markdown",
   "metadata": {},
   "source": [
    "## Seleciona os itens principais dos ID's:  'L', 'C', 'I'"
   ]
  },
  {
   "cell_type": "code",
   "execution_count": null,
   "metadata": {},
   "outputs": [],
   "source": [
    "driver.find_element_by_xpath('//*[@id=\"L\"]/option[9]').click() #Selecionando os dados por Região/UF nas linhas\n",
    "driver.find_element_by_xpath('//*[@id=\"C\"]/option[7]').click() #Selecionando os dados por ano_mes competeência nas colunas\n",
    "driver.find_element_by_xpath('//*[@id=\"I\"]/option').click()    #Selecionando os dados por valor nas células"
   ]
  },
  {
   "cell_type": "markdown",
   "metadata": {},
   "source": [
    "## Função para clicar no botão de baixar o CSV"
   ]
  },
  {
   "cell_type": "code",
   "execution_count": null,
   "metadata": {},
   "outputs": [],
   "source": [
    "##  <a href=\"/csv/A001156189_28_143_208.csv\">Copia como .CSV</a>\n",
    "\n"
   ]
  },
  {
   "cell_type": "markdown",
   "metadata": {},
   "source": [
    "## Função para puxar os valores da pasta para o Pandas"
   ]
  },
  {
   "cell_type": "code",
   "execution_count": null,
   "metadata": {},
   "outputs": [],
   "source": [
    "def pandas_fetch_download():\n",
    "    downloads_path = str(Path.home() / \"Downloads\")\n",
    "    extension = 'csv'\n",
    "    os.chdir(downloads_path)\n",
    "    result = glob.glob('*.{}'.format(extension))\n",
    "    print(result)\n",
    "    \n",
    "    "
   ]
  },
  {
   "cell_type": "code",
   "execution_count": null,
   "metadata": {},
   "outputs": [],
   "source": [
    "def find_csv_filenames( path_to_dir, suffix=\".csv\" ):\n",
    "    filenames = listdir(path_to_dir)\n",
    "    return [ filename for filename in filenames if filename.endswith( suffix ) ]\n",
    "\n",
    "def pandas_fetch_download():\n",
    "    downloads_path = str(Path.home() / \"Downloads\")\n",
    "    CSV_Files = find_csv_filenames( downloads_path, suffix=\".csv\" )\n",
    "    Data = pd.DataFrame()\n",
    "    for i in CSV_Files:\n",
    "        in_data = pd.read_csv(f'{downloads_path}\\\\{i}')\n",
    "        Data = Data.append(in_data)\n",
    "        \n",
    "        \n"
   ]
  },
  {
   "cell_type": "code",
   "execution_count": null,
   "metadata": {},
   "outputs": [],
   "source": [
    "### adicionar função para enviar os arquivos para outra pasta"
   ]
  },
  {
   "cell_type": "markdown",
   "metadata": {},
   "source": [
    "## Função iteradora entre os Períodos, ID: 'A'"
   ]
  },
  {
   "cell_type": "code",
   "execution_count": null,
   "metadata": {},
   "outputs": [],
   "source": []
  },
  {
   "cell_type": "code",
   "execution_count": null,
   "metadata": {},
   "outputs": [],
   "source": []
  },
  {
   "cell_type": "code",
   "execution_count": 1,
   "metadata": {},
   "outputs": [],
   "source": []
  },
  {
   "cell_type": "code",
   "execution_count": 2,
   "metadata": {},
   "outputs": [
    {
     "name": "stdout",
     "output_type": "stream",
     "text": [
      "C:\\Users\\ken94\\Downloads\n"
     ]
    }
   ],
   "source": [
    "print(downloads_path)"
   ]
  },
  {
   "cell_type": "code",
   "execution_count": null,
   "metadata": {},
   "outputs": [],
   "source": []
  }
 ],
 "metadata": {
  "kernelspec": {
   "display_name": "Python 3",
   "language": "python",
   "name": "python3"
  },
  "language_info": {
   "codemirror_mode": {
    "name": "ipython",
    "version": 3
   },
   "file_extension": ".py",
   "mimetype": "text/x-python",
   "name": "python",
   "nbconvert_exporter": "python",
   "pygments_lexer": "ipython3",
   "version": "3.7.6"
  }
 },
 "nbformat": 4,
 "nbformat_minor": 4
}
